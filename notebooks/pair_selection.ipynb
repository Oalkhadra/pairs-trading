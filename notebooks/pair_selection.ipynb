{
 "cells": [
  {
   "cell_type": "code",
   "execution_count": 17,
   "id": "22cafa02",
   "metadata": {},
   "outputs": [],
   "source": [
    "from pathlib import Path\n",
    "import pandas as pd\n",
    "import numpy as np\n",
    "\n",
    "# Define paths\n",
    "PROJECT_ROOT = Path.cwd().parent  \n",
    "DATA_DIR = PROJECT_ROOT / \"data\"\n",
    "\n",
    "pairs_df = pd.read_csv(DATA_DIR / \"./processed/stationary_pairs_XOM.csv\")"
   ]
  },
  {
   "cell_type": "code",
   "execution_count": 18,
   "id": "3956d921",
   "metadata": {},
   "outputs": [],
   "source": [
    "# Define set of traditional pairs-trades, and non-traditional pairs (negative hedge ratio)\n",
    "traditional_pairs = pairs_df[pairs_df['beta'] > 0]\n",
    "non_traditional_pairs = pairs_df[pairs_df['beta'] < 0]"
   ]
  },
  {
   "cell_type": "code",
   "execution_count": 19,
   "id": "cbb13147",
   "metadata": {},
   "outputs": [
    {
     "name": "stdout",
     "output_type": "stream",
     "text": [
      "pair         XOM and ATO\n",
      "candidate            ATO\n",
      "half_life      18.171858\n",
      "Name: 4, dtype: object\n",
      "\n",
      "\n",
      "pair         XOM and DE\n",
      "candidate            DE\n",
      "half_life     20.617685\n",
      "Name: 13, dtype: object\n",
      "\n",
      "\n",
      "pair         XOM and REG\n",
      "candidate            REG\n",
      "half_life      31.715218\n",
      "Name: 31, dtype: object\n",
      "\n",
      "\n"
     ]
    }
   ],
   "source": [
    "mid = int(len(traditional_pairs) / 2) - 1 # Tie between SYY and DE, used DE because of higher R2 from Hedge Ratio calculation\n",
    "print(f\"{traditional_pairs.iloc[0][['pair', 'candidate', 'half_life']]}\\n\\n\")\n",
    "print(f\"{traditional_pairs.iloc[mid][['pair', 'candidate', 'half_life']]}\\n\\n\")\n",
    "print(f\"{traditional_pairs.iloc[-1][['pair', 'candidate', 'half_life']]}\\n\\n\")\n"
   ]
  },
  {
   "cell_type": "code",
   "execution_count": 20,
   "id": "efc228d9",
   "metadata": {},
   "outputs": [
    {
     "name": "stdout",
     "output_type": "stream",
     "text": [
      "pair         XOM and KMX\n",
      "candidate            KMX\n",
      "half_life      15.859231\n",
      "Name: 0, dtype: object\n",
      "\n",
      "\n",
      "            pair candidate  half_life\n",
      "16  XOM and TRMB      TRMB  22.193983\n",
      "\n",
      "\n",
      "pair         XOM and FRT\n",
      "candidate            FRT\n",
      "half_life      31.946036\n",
      "Name: 32, dtype: object\n"
     ]
    }
   ],
   "source": [
    "print(f\"{non_traditional_pairs.iloc[0][['pair', 'candidate', 'half_life']]}\\n\\n\")\n",
    "print(non_traditional_pairs[non_traditional_pairs['half_life'] == non_traditional_pairs['half_life'].median()][['pair', 'candidate', 'half_life']])\n",
    "print(f\"\\n\\n{non_traditional_pairs.iloc[-1][['pair', 'candidate', 'half_life']]}\")"
   ]
  },
  {
   "cell_type": "code",
   "execution_count": 24,
   "id": "e45fc023",
   "metadata": {},
   "outputs": [
    {
     "name": "stdout",
     "output_type": "stream",
     "text": [
      "Optimal Lookback Window: 23 days\n"
     ]
    }
   ],
   "source": [
    "# Calculate the mean of all pairs' half lives to determine optimal lookback window for rolling z-score\n",
    "half_lives = []\n",
    "pair_indices = [0, 4, 13, 16, 31, 32]\n",
    "for idx in pair_indices:\n",
    "    half_lives.append(pairs_df.iloc[idx]['half_life'])\n",
    "print(f\"Optimal Lookback Window: {int(np.mean(half_lives))} days\")"
   ]
  }
 ],
 "metadata": {
  "kernelspec": {
   "display_name": "Python 3",
   "language": "python",
   "name": "python3"
  },
  "language_info": {
   "codemirror_mode": {
    "name": "ipython",
    "version": 3
   },
   "file_extension": ".py",
   "mimetype": "text/x-python",
   "name": "python",
   "nbconvert_exporter": "python",
   "pygments_lexer": "ipython3",
   "version": "3.10.12"
  }
 },
 "nbformat": 4,
 "nbformat_minor": 5
}
